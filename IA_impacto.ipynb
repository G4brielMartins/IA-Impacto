{
 "cells": [
  {
   "cell_type": "markdown",
   "metadata": {},
   "source": [
    "# Importação e Tratamento de Dados"
   ]
  },
  {
   "cell_type": "code",
   "execution_count": 1,
   "metadata": {},
   "outputs": [],
   "source": [
    "import numpy as np\n",
    "import pandas as pd\n",
    "import sklearn_helper as skh\n",
    "import os"
   ]
  },
  {
   "cell_type": "code",
   "execution_count": 2,
   "metadata": {},
   "outputs": [],
   "source": [
    "# Link em que se encontram os dados a serem utilizados na análise\n",
    "LINK_DADOS = \"https://drive.google.com/file/d/1cXtMwZsm3Eo5NejaCYjVgA1U46It61r5/view\"\n",
    "PASTA_DADOS = \"Dados/\"\n",
    "\n",
    "TAXA_DE_AMOSTRAGEM_HZ = 208\n",
    "\n",
    "# Configuração da função find_peaks\n",
    "COLUNA_PICOS = 'imu1accz'\n",
    "\n",
    "DISTANCIA_ENTRE_PICOS_S = 8 * TAXA_DE_AMOSTRAGEM_HZ\n",
    "ALTURA_MINIMA_PICO = 5\n",
    "\n",
    "# Configuração do recorte de dados no entorno de cada pico\n",
    "COMPRIMENTO_DA_LEITURA_S = int(1 * TAXA_DE_AMOSTRAGEM_HZ)\n",
    "OFFSET_ANTES_DO_PICO_S = int(.1 * TAXA_DE_AMOSTRAGEM_HZ)\n",
    "\n",
    "COLUNAS_A_REMOVER = ['time', 'dac1', 'dac2', 'dac3', 'dac4', 'log']\n",
    "\n",
    "LABELS = {\n",
    "    'metalico':     0,\n",
    "    'amortecido':   1\n",
    "}"
   ]
  },
  {
   "cell_type": "code",
   "execution_count": 3,
   "metadata": {},
   "outputs": [
    {
     "data": {
      "text/plain": [
       "False"
      ]
     },
     "execution_count": 3,
     "metadata": {},
     "output_type": "execute_result"
    }
   ],
   "source": [
    "skh.baixar_dados(LINK_DADOS, output_dir=PASTA_DADOS)"
   ]
  },
  {
   "cell_type": "code",
   "execution_count": 4,
   "metadata": {},
   "outputs": [],
   "source": [
    "skh.unzip_arquivos_da_pasta(PASTA_DADOS)"
   ]
  },
  {
   "cell_type": "code",
   "execution_count": 5,
   "metadata": {},
   "outputs": [
    {
     "data": {
      "text/plain": [
       "['Dados/Dados_Impacto_Metalico_Gabriel.feather',\n",
       " 'Dados/Dados_Impacto_Amortecido_Gabriel.feather']"
      ]
     },
     "execution_count": 5,
     "metadata": {},
     "output_type": "execute_result"
    }
   ],
   "source": [
    "feathers_gabriel = [PASTA_DADOS + path for path in os.listdir(PASTA_DADOS) if path.find('Gabriel') != -1]\n",
    "feathers_gabriel\n"
   ]
  },
  {
   "cell_type": "code",
   "execution_count": 6,
   "metadata": {},
   "outputs": [
    {
     "data": {
      "text/plain": [
       "['Dados/Impacto_Metalico_Joao_2.feather',\n",
       " 'Dados/Impacto_Amortecido_Joao_1.feather',\n",
       " 'Dados/Impacto_Amortecido_Joao_2.feather',\n",
       " 'Dados/Impacto_Metalico_Joao_1.feather']"
      ]
     },
     "execution_count": 6,
     "metadata": {},
     "output_type": "execute_result"
    }
   ],
   "source": [
    "feathers_joao = [PASTA_DADOS + path for path in os.listdir(PASTA_DADOS) if path.find('Joao') != -1]\n",
    "feathers_joao"
   ]
  },
  {
   "cell_type": "code",
   "execution_count": 7,
   "metadata": {},
   "outputs": [],
   "source": [
    "def importar_e_preparar(feathers_paths: str) -> pd.DataFrame:\n",
    "    \"\"\"\n",
    "    Retorna um data frame onde cada linha contém as informações achatadas de um período de dados.\n",
    "    Importa uma lista de caminhos para arquivos feather, recortando os períodos de dados e atribuindo labels.\n",
    "    \n",
    "    Notas\n",
    "    ----------\n",
    "    * A preparação ocorre conforme as constantes definidas no ínicio do código.\n",
    "    * As labels são encontradas automaticamente, comparando chaves fornecidas em LABELS com os nomes dos arquivos.\n",
    "    \"\"\"    \n",
    "    \n",
    "    dfs = []\n",
    "    for path in feathers_paths:\n",
    "        # Importação\n",
    "        df = pd.read_feather(path).drop(COLUNAS_A_REMOVER, axis= 1)\n",
    "        dados = skh.DadosVibracao(df, COLUNA_PICOS, ALTURA_MINIMA_PICO, DISTANCIA_ENTRE_PICOS_S)\n",
    "        dados_achatados = skh.achatar_dados(dados[:, COMPRIMENTO_DA_LEITURA_S, OFFSET_ANTES_DO_PICO_S])\n",
    "        \n",
    "        # Atribuição de categoria\n",
    "        label_key = (path.lower().split(\"_\") & LABELS.keys()).pop()\n",
    "        dados_achatados['label'] = LABELS[label_key]\n",
    "        dfs.append(dados_achatados)\n",
    "    \n",
    "    out_df = pd.concat(dfs).dropna().reset_index().drop('index', axis=1)\n",
    "\n",
    "    return out_df"
   ]
  },
  {
   "cell_type": "code",
   "execution_count": 8,
   "metadata": {},
   "outputs": [],
   "source": [
    "df_preparado_gabriel = importar_e_preparar(feathers_gabriel)\n",
    "df_preparado_joao = importar_e_preparar(feathers_joao)\n",
    "            "
   ]
  },
  {
   "cell_type": "code",
   "execution_count": 9,
   "metadata": {},
   "outputs": [
    {
     "data": {
      "text/html": [
       "<div>\n",
       "<style scoped>\n",
       "    .dataframe tbody tr th:only-of-type {\n",
       "        vertical-align: middle;\n",
       "    }\n",
       "\n",
       "    .dataframe tbody tr th {\n",
       "        vertical-align: top;\n",
       "    }\n",
       "\n",
       "    .dataframe thead th {\n",
       "        text-align: right;\n",
       "    }\n",
       "</style>\n",
       "<table border=\"1\" class=\"dataframe\">\n",
       "  <thead>\n",
       "    <tr style=\"text-align: right;\">\n",
       "      <th></th>\n",
       "      <th>imu1accx_0</th>\n",
       "      <th>imu1accy_0</th>\n",
       "      <th>imu1accz_0</th>\n",
       "      <th>imu1gyrox_0</th>\n",
       "      <th>imu1gyroy_0</th>\n",
       "      <th>imu1gyroz_0</th>\n",
       "      <th>imu2accx_0</th>\n",
       "      <th>imu2accy_0</th>\n",
       "      <th>imu2accz_0</th>\n",
       "      <th>imu2gyrox_0</th>\n",
       "      <th>...</th>\n",
       "      <th>imu1gyrox_187</th>\n",
       "      <th>imu1gyroy_187</th>\n",
       "      <th>imu1gyroz_187</th>\n",
       "      <th>imu2accx_187</th>\n",
       "      <th>imu2accy_187</th>\n",
       "      <th>imu2accz_187</th>\n",
       "      <th>imu2gyrox_187</th>\n",
       "      <th>imu2gyroy_187</th>\n",
       "      <th>imu2gyroz_187</th>\n",
       "      <th>label</th>\n",
       "    </tr>\n",
       "  </thead>\n",
       "  <tbody>\n",
       "    <tr>\n",
       "      <th>0</th>\n",
       "      <td>-0.120907</td>\n",
       "      <td>19.540277</td>\n",
       "      <td>0.051475</td>\n",
       "      <td>-2.780914</td>\n",
       "      <td>-3.707886</td>\n",
       "      <td>-3.540039</td>\n",
       "      <td>-2.236184</td>\n",
       "      <td>18.770541</td>\n",
       "      <td>-11.256339</td>\n",
       "      <td>-3.505707</td>\n",
       "      <td>...</td>\n",
       "      <td>-1.071930</td>\n",
       "      <td>-3.791809</td>\n",
       "      <td>-3.738403</td>\n",
       "      <td>-1.738190</td>\n",
       "      <td>19.139248</td>\n",
       "      <td>-5.266047</td>\n",
       "      <td>-4.230499</td>\n",
       "      <td>-7.247925</td>\n",
       "      <td>-2.262115</td>\n",
       "      <td>0</td>\n",
       "    </tr>\n",
       "    <tr>\n",
       "      <th>1</th>\n",
       "      <td>-0.381875</td>\n",
       "      <td>19.733010</td>\n",
       "      <td>-1.618480</td>\n",
       "      <td>0.556946</td>\n",
       "      <td>-3.715515</td>\n",
       "      <td>-3.742218</td>\n",
       "      <td>-1.140837</td>\n",
       "      <td>18.775329</td>\n",
       "      <td>-1.022324</td>\n",
       "      <td>1.987457</td>\n",
       "      <td>...</td>\n",
       "      <td>0.610352</td>\n",
       "      <td>-3.765106</td>\n",
       "      <td>-3.578186</td>\n",
       "      <td>-1.770512</td>\n",
       "      <td>19.592949</td>\n",
       "      <td>1.713051</td>\n",
       "      <td>0.663757</td>\n",
       "      <td>-6.900787</td>\n",
       "      <td>-2.468109</td>\n",
       "      <td>0</td>\n",
       "    </tr>\n",
       "    <tr>\n",
       "      <th>2</th>\n",
       "      <td>-2.000355</td>\n",
       "      <td>20.728998</td>\n",
       "      <td>-6.025008</td>\n",
       "      <td>2.937317</td>\n",
       "      <td>-2.944946</td>\n",
       "      <td>-0.930786</td>\n",
       "      <td>-5.759252</td>\n",
       "      <td>18.312051</td>\n",
       "      <td>-1.217452</td>\n",
       "      <td>-0.476837</td>\n",
       "      <td>...</td>\n",
       "      <td>2.464294</td>\n",
       "      <td>-3.887177</td>\n",
       "      <td>-3.726959</td>\n",
       "      <td>-2.064999</td>\n",
       "      <td>19.068619</td>\n",
       "      <td>-0.500388</td>\n",
       "      <td>-0.656128</td>\n",
       "      <td>-6.965637</td>\n",
       "      <td>-2.399445</td>\n",
       "      <td>0</td>\n",
       "    </tr>\n",
       "    <tr>\n",
       "      <th>3</th>\n",
       "      <td>-1.574188</td>\n",
       "      <td>18.280927</td>\n",
       "      <td>9.489418</td>\n",
       "      <td>5.214691</td>\n",
       "      <td>-3.978729</td>\n",
       "      <td>-3.383636</td>\n",
       "      <td>-2.784457</td>\n",
       "      <td>19.914969</td>\n",
       "      <td>-4.699818</td>\n",
       "      <td>1.956940</td>\n",
       "      <td>...</td>\n",
       "      <td>3.822327</td>\n",
       "      <td>-3.726959</td>\n",
       "      <td>-3.700256</td>\n",
       "      <td>-2.085350</td>\n",
       "      <td>19.796456</td>\n",
       "      <td>-1.892616</td>\n",
       "      <td>4.585266</td>\n",
       "      <td>-6.637573</td>\n",
       "      <td>-2.437592</td>\n",
       "      <td>0</td>\n",
       "    </tr>\n",
       "    <tr>\n",
       "      <th>4</th>\n",
       "      <td>-1.558625</td>\n",
       "      <td>20.047848</td>\n",
       "      <td>4.432864</td>\n",
       "      <td>-1.132965</td>\n",
       "      <td>-3.738403</td>\n",
       "      <td>5.077362</td>\n",
       "      <td>-1.000776</td>\n",
       "      <td>14.401123</td>\n",
       "      <td>-12.340912</td>\n",
       "      <td>-9.006500</td>\n",
       "      <td>...</td>\n",
       "      <td>0.251770</td>\n",
       "      <td>-3.627777</td>\n",
       "      <td>-3.688812</td>\n",
       "      <td>-2.103306</td>\n",
       "      <td>18.825608</td>\n",
       "      <td>-2.163161</td>\n",
       "      <td>-2.956390</td>\n",
       "      <td>-7.122040</td>\n",
       "      <td>-2.307892</td>\n",
       "      <td>0</td>\n",
       "    </tr>\n",
       "    <tr>\n",
       "      <th>...</th>\n",
       "      <td>...</td>\n",
       "      <td>...</td>\n",
       "      <td>...</td>\n",
       "      <td>...</td>\n",
       "      <td>...</td>\n",
       "      <td>...</td>\n",
       "      <td>...</td>\n",
       "      <td>...</td>\n",
       "      <td>...</td>\n",
       "      <td>...</td>\n",
       "      <td>...</td>\n",
       "      <td>...</td>\n",
       "      <td>...</td>\n",
       "      <td>...</td>\n",
       "      <td>...</td>\n",
       "      <td>...</td>\n",
       "      <td>...</td>\n",
       "      <td>...</td>\n",
       "      <td>...</td>\n",
       "      <td>...</td>\n",
       "      <td>...</td>\n",
       "    </tr>\n",
       "    <tr>\n",
       "      <th>182</th>\n",
       "      <td>-0.144849</td>\n",
       "      <td>20.488381</td>\n",
       "      <td>7.829039</td>\n",
       "      <td>-1.377106</td>\n",
       "      <td>-2.857208</td>\n",
       "      <td>-3.276825</td>\n",
       "      <td>-11.119870</td>\n",
       "      <td>18.338388</td>\n",
       "      <td>2.700659</td>\n",
       "      <td>9.880066</td>\n",
       "      <td>...</td>\n",
       "      <td>1.586914</td>\n",
       "      <td>-3.284454</td>\n",
       "      <td>-4.577637</td>\n",
       "      <td>-1.171962</td>\n",
       "      <td>20.289662</td>\n",
       "      <td>5.607220</td>\n",
       "      <td>6.607056</td>\n",
       "      <td>-6.229401</td>\n",
       "      <td>-2.674103</td>\n",
       "      <td>0</td>\n",
       "    </tr>\n",
       "    <tr>\n",
       "      <th>183</th>\n",
       "      <td>0.084994</td>\n",
       "      <td>21.795615</td>\n",
       "      <td>-3.593697</td>\n",
       "      <td>-2.571106</td>\n",
       "      <td>-3.536224</td>\n",
       "      <td>-4.295349</td>\n",
       "      <td>-3.724181</td>\n",
       "      <td>16.765397</td>\n",
       "      <td>-2.155979</td>\n",
       "      <td>4.688263</td>\n",
       "      <td>...</td>\n",
       "      <td>1.567841</td>\n",
       "      <td>-3.803253</td>\n",
       "      <td>-4.631042</td>\n",
       "      <td>-1.568202</td>\n",
       "      <td>19.887436</td>\n",
       "      <td>2.043451</td>\n",
       "      <td>3.234863</td>\n",
       "      <td>-6.191254</td>\n",
       "      <td>-2.433777</td>\n",
       "      <td>0</td>\n",
       "    </tr>\n",
       "    <tr>\n",
       "      <th>184</th>\n",
       "      <td>1.589750</td>\n",
       "      <td>22.094890</td>\n",
       "      <td>1.821987</td>\n",
       "      <td>-1.308441</td>\n",
       "      <td>-0.946045</td>\n",
       "      <td>-2.059937</td>\n",
       "      <td>-20.321984</td>\n",
       "      <td>18.899828</td>\n",
       "      <td>2.677915</td>\n",
       "      <td>2.471924</td>\n",
       "      <td>...</td>\n",
       "      <td>-0.869751</td>\n",
       "      <td>-3.463745</td>\n",
       "      <td>-4.489899</td>\n",
       "      <td>-1.150414</td>\n",
       "      <td>20.039468</td>\n",
       "      <td>1.732205</td>\n",
       "      <td>-1.525879</td>\n",
       "      <td>-7.083893</td>\n",
       "      <td>-2.494812</td>\n",
       "      <td>0</td>\n",
       "    </tr>\n",
       "    <tr>\n",
       "      <th>185</th>\n",
       "      <td>2.197877</td>\n",
       "      <td>22.892159</td>\n",
       "      <td>-7.529764</td>\n",
       "      <td>0.644684</td>\n",
       "      <td>-2.876282</td>\n",
       "      <td>-2.105713</td>\n",
       "      <td>-3.434482</td>\n",
       "      <td>14.748282</td>\n",
       "      <td>-2.619257</td>\n",
       "      <td>16.090393</td>\n",
       "      <td>...</td>\n",
       "      <td>2.201080</td>\n",
       "      <td>-3.322601</td>\n",
       "      <td>-4.444122</td>\n",
       "      <td>-1.219846</td>\n",
       "      <td>20.563798</td>\n",
       "      <td>7.773973</td>\n",
       "      <td>10.478973</td>\n",
       "      <td>-5.313873</td>\n",
       "      <td>-2.754211</td>\n",
       "      <td>0</td>\n",
       "    </tr>\n",
       "    <tr>\n",
       "      <th>186</th>\n",
       "      <td>3.778050</td>\n",
       "      <td>19.436129</td>\n",
       "      <td>-3.749320</td>\n",
       "      <td>0.701904</td>\n",
       "      <td>-1.380920</td>\n",
       "      <td>-1.308441</td>\n",
       "      <td>-11.298238</td>\n",
       "      <td>17.908628</td>\n",
       "      <td>-0.331597</td>\n",
       "      <td>-1.125336</td>\n",
       "      <td>...</td>\n",
       "      <td>0.492096</td>\n",
       "      <td>-3.711700</td>\n",
       "      <td>-4.394531</td>\n",
       "      <td>-1.418564</td>\n",
       "      <td>19.648016</td>\n",
       "      <td>0.650026</td>\n",
       "      <td>0.473022</td>\n",
       "      <td>-6.706238</td>\n",
       "      <td>-2.418518</td>\n",
       "      <td>0</td>\n",
       "    </tr>\n",
       "  </tbody>\n",
       "</table>\n",
       "<p>269 rows × 2257 columns</p>\n",
       "</div>"
      ],
      "text/plain": [
       "     imu1accx_0  imu1accy_0  imu1accz_0  imu1gyrox_0  imu1gyroy_0  \\\n",
       "0     -0.120907   19.540277    0.051475    -2.780914    -3.707886   \n",
       "1     -0.381875   19.733010   -1.618480     0.556946    -3.715515   \n",
       "2     -2.000355   20.728998   -6.025008     2.937317    -2.944946   \n",
       "3     -1.574188   18.280927    9.489418     5.214691    -3.978729   \n",
       "4     -1.558625   20.047848    4.432864    -1.132965    -3.738403   \n",
       "..          ...         ...         ...          ...          ...   \n",
       "182   -0.144849   20.488381    7.829039    -1.377106    -2.857208   \n",
       "183    0.084994   21.795615   -3.593697    -2.571106    -3.536224   \n",
       "184    1.589750   22.094890    1.821987    -1.308441    -0.946045   \n",
       "185    2.197877   22.892159   -7.529764     0.644684    -2.876282   \n",
       "186    3.778050   19.436129   -3.749320     0.701904    -1.380920   \n",
       "\n",
       "     imu1gyroz_0  imu2accx_0  imu2accy_0  imu2accz_0  imu2gyrox_0  ...  \\\n",
       "0      -3.540039   -2.236184   18.770541  -11.256339    -3.505707  ...   \n",
       "1      -3.742218   -1.140837   18.775329   -1.022324     1.987457  ...   \n",
       "2      -0.930786   -5.759252   18.312051   -1.217452    -0.476837  ...   \n",
       "3      -3.383636   -2.784457   19.914969   -4.699818     1.956940  ...   \n",
       "4       5.077362   -1.000776   14.401123  -12.340912    -9.006500  ...   \n",
       "..           ...         ...         ...         ...          ...  ...   \n",
       "182    -3.276825  -11.119870   18.338388    2.700659     9.880066  ...   \n",
       "183    -4.295349   -3.724181   16.765397   -2.155979     4.688263  ...   \n",
       "184    -2.059937  -20.321984   18.899828    2.677915     2.471924  ...   \n",
       "185    -2.105713   -3.434482   14.748282   -2.619257    16.090393  ...   \n",
       "186    -1.308441  -11.298238   17.908628   -0.331597    -1.125336  ...   \n",
       "\n",
       "     imu1gyrox_187  imu1gyroy_187  imu1gyroz_187  imu2accx_187  imu2accy_187  \\\n",
       "0        -1.071930      -3.791809      -3.738403     -1.738190     19.139248   \n",
       "1         0.610352      -3.765106      -3.578186     -1.770512     19.592949   \n",
       "2         2.464294      -3.887177      -3.726959     -2.064999     19.068619   \n",
       "3         3.822327      -3.726959      -3.700256     -2.085350     19.796456   \n",
       "4         0.251770      -3.627777      -3.688812     -2.103306     18.825608   \n",
       "..             ...            ...            ...           ...           ...   \n",
       "182       1.586914      -3.284454      -4.577637     -1.171962     20.289662   \n",
       "183       1.567841      -3.803253      -4.631042     -1.568202     19.887436   \n",
       "184      -0.869751      -3.463745      -4.489899     -1.150414     20.039468   \n",
       "185       2.201080      -3.322601      -4.444122     -1.219846     20.563798   \n",
       "186       0.492096      -3.711700      -4.394531     -1.418564     19.648016   \n",
       "\n",
       "     imu2accz_187  imu2gyrox_187  imu2gyroy_187  imu2gyroz_187  label  \n",
       "0       -5.266047      -4.230499      -7.247925      -2.262115      0  \n",
       "1        1.713051       0.663757      -6.900787      -2.468109      0  \n",
       "2       -0.500388      -0.656128      -6.965637      -2.399445      0  \n",
       "3       -1.892616       4.585266      -6.637573      -2.437592      0  \n",
       "4       -2.163161      -2.956390      -7.122040      -2.307892      0  \n",
       "..            ...            ...            ...            ...    ...  \n",
       "182      5.607220       6.607056      -6.229401      -2.674103      0  \n",
       "183      2.043451       3.234863      -6.191254      -2.433777      0  \n",
       "184      1.732205      -1.525879      -7.083893      -2.494812      0  \n",
       "185      7.773973      10.478973      -5.313873      -2.754211      0  \n",
       "186      0.650026       0.473022      -6.706238      -2.418518      0  \n",
       "\n",
       "[269 rows x 2257 columns]"
      ]
     },
     "execution_count": 9,
     "metadata": {},
     "output_type": "execute_result"
    }
   ],
   "source": [
    "df_preparado_gabriel_joao = pd.concat([df_preparado_gabriel, df_preparado_joao])\n",
    "df_preparado_gabriel_joao\n"
   ]
  },
  {
   "cell_type": "markdown",
   "metadata": {},
   "source": [
    "# Scikit Learn - Random Forest"
   ]
  },
  {
   "cell_type": "code",
   "execution_count": 10,
   "metadata": {},
   "outputs": [],
   "source": [
    "from sklearn.ensemble import RandomForestClassifier"
   ]
  },
  {
   "cell_type": "markdown",
   "metadata": {},
   "source": [
    "## IA Gabriel"
   ]
  },
  {
   "cell_type": "code",
   "execution_count": 11,
   "metadata": {},
   "outputs": [],
   "source": [
    "x_gabriel = df_preparado_gabriel.drop('label', axis=1)\n",
    "y_gabriel = df_preparado_gabriel['label']\n",
    "\n",
    "rf_gabriel = RandomForestClassifier()"
   ]
  },
  {
   "cell_type": "code",
   "execution_count": 12,
   "metadata": {},
   "outputs": [
    {
     "name": "stdout",
     "output_type": "stream",
     "text": [
      "\n",
      "    Precisão Média:   92.86%\n",
      "    Desvio Padrão:    0.04\n",
      "    Variância:        1.47e-03\n",
      "    \n"
     ]
    }
   ],
   "source": [
    "skh.testar_precisao(rf_gabriel, x_gabriel, y_gabriel)"
   ]
  },
  {
   "cell_type": "markdown",
   "metadata": {},
   "source": [
    "## IA Joao"
   ]
  },
  {
   "cell_type": "code",
   "execution_count": 13,
   "metadata": {},
   "outputs": [],
   "source": [
    "x_joao = df_preparado_joao.drop('label', axis=1)\n",
    "y_joao = df_preparado_joao['label']\n",
    "\n",
    "rf_joao = RandomForestClassifier()"
   ]
  },
  {
   "cell_type": "code",
   "execution_count": 14,
   "metadata": {},
   "outputs": [
    {
     "name": "stdout",
     "output_type": "stream",
     "text": [
      "\n",
      "    Precisão Média:   95.32%\n",
      "    Desvio Padrão:    0.04\n",
      "    Variância:        1.88e-03\n",
      "    \n"
     ]
    }
   ],
   "source": [
    "skh.testar_precisao(rf_joao, x_joao, y_joao)"
   ]
  },
  {
   "cell_type": "markdown",
   "metadata": {},
   "source": [
    "## Teste Cruzado"
   ]
  },
  {
   "cell_type": "code",
   "execution_count": 15,
   "metadata": {},
   "outputs": [
    {
     "name": "stdout",
     "output_type": "stream",
     "text": [
      "  \n",
      "    Precisão Média:   60.96%\n",
      "    Desvio Padrão:    0.03\n",
      "    Variância:        7.32e-04\n",
      "    \n"
     ]
    }
   ],
   "source": [
    "# IA treinada com dados de Gabriel testada nos dados de João\n",
    "skh.testar_precisao_dados_fixos(rf_gabriel, [x_gabriel, y_gabriel], [x_joao, y_joao])"
   ]
  },
  {
   "cell_type": "code",
   "execution_count": 16,
   "metadata": {},
   "outputs": [
    {
     "name": "stdout",
     "output_type": "stream",
     "text": [
      "  \n",
      "    Precisão Média:   70.37%\n",
      "    Desvio Padrão:    0.08\n",
      "    Variância:        6.28e-03\n",
      "    \n"
     ]
    }
   ],
   "source": [
    "# IA treinada com dados de João testada nos dados de Gabriel\n",
    "skh.testar_precisao_dados_fixos(rf_joao, [x_joao, y_joao], [x_gabriel, y_gabriel])"
   ]
  },
  {
   "cell_type": "markdown",
   "metadata": {},
   "source": [
    "## IA com todos os dados"
   ]
  },
  {
   "cell_type": "code",
   "execution_count": 17,
   "metadata": {},
   "outputs": [],
   "source": [
    "x = df_preparado_gabriel_joao.drop('label', axis=1)\n",
    "y = df_preparado_gabriel_joao['label']\n",
    "\n",
    "rf = RandomForestClassifier()"
   ]
  },
  {
   "cell_type": "code",
   "execution_count": 18,
   "metadata": {},
   "outputs": [
    {
     "name": "stdout",
     "output_type": "stream",
     "text": [
      "\n",
      "    Precisão Média:   93.24%\n",
      "    Desvio Padrão:    0.03\n",
      "    Variância:        8.30e-04\n",
      "    \n"
     ]
    }
   ],
   "source": [
    "skh.testar_precisao(rf, x, y)"
   ]
  }
 ],
 "metadata": {
  "kernelspec": {
   "display_name": ".venv",
   "language": "python",
   "name": "python3"
  },
  "language_info": {
   "codemirror_mode": {
    "name": "ipython",
    "version": 3
   },
   "file_extension": ".py",
   "mimetype": "text/x-python",
   "name": "python",
   "nbconvert_exporter": "python",
   "pygments_lexer": "ipython3",
   "version": "3.12.2"
  }
 },
 "nbformat": 4,
 "nbformat_minor": 2
}
